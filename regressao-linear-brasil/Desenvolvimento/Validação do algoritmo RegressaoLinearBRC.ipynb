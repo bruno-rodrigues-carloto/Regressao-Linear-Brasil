{
 "cells": [
  {
   "cell_type": "markdown",
   "id": "a7ae2421",
   "metadata": {},
   "source": [
    "<strong style=\"color: #FF8C00; font-size: 28px\">\n",
    "    Validação do Pacote\n",
    "</strong>\n",
    "\n",
    "<p>\n",
    "    No presente notebook, se faz a validação do pacote de regressão linear criado em português, aplicando todos seus métodos e comparando os resultados através do uso de métricas e da classe de regressão linear presentes no scikit-learn.\n",
    "</p>"
   ]
  },
  {
   "cell_type": "markdown",
   "id": "670328cf",
   "metadata": {},
   "source": [
    "<strong style=\"color: #800000; font-size: 20px\">\n",
    "    1. Importação da base e entendendo os dados\n",
    "</strong>\n",
    "\n",
    "<p>\n",
    "    Nessa etapa, importa-se a base usada para validação e avalia-se as características de seus dados.\n",
    "</p>"
   ]
  },
  {
   "cell_type": "code",
   "execution_count": 2,
   "id": "2953d72e",
   "metadata": {},
   "outputs": [],
   "source": [
    "# Importando as bibliotecas iniciais\n",
    "import numpy as np\n",
    "import pandas as pd\n",
    "import matplotlib.pyplot as plt\n",
    "import seaborn as sns\n",
    "import warnings\n",
    "\n",
    "warnings.filterwarnings('ignore')"
   ]
  },
  {
   "cell_type": "code",
   "execution_count": 3,
   "id": "6197996c",
   "metadata": {},
   "outputs": [],
   "source": [
    "# Importando a base\n",
    "df = pd.read_csv('preco_feijao_arroz.csv')"
   ]
  },
  {
   "cell_type": "code",
   "execution_count": 10,
   "id": "7fd8374f",
   "metadata": {},
   "outputs": [
    {
     "data": {
      "text/plain": [
       "(1000, 2)"
      ]
     },
     "execution_count": 10,
     "metadata": {},
     "output_type": "execute_result"
    }
   ],
   "source": [
    "# Observando dimensão da base\n",
    "df.shape # 1 mil linhas e 2 colunas"
   ]
  },
  {
   "cell_type": "code",
   "execution_count": 6,
   "id": "516976a2",
   "metadata": {},
   "outputs": [
    {
     "data": {
      "text/html": [
       "<div>\n",
       "<style scoped>\n",
       "    .dataframe tbody tr th:only-of-type {\n",
       "        vertical-align: middle;\n",
       "    }\n",
       "\n",
       "    .dataframe tbody tr th {\n",
       "        vertical-align: top;\n",
       "    }\n",
       "\n",
       "    .dataframe thead th {\n",
       "        text-align: right;\n",
       "    }\n",
       "</style>\n",
       "<table border=\"1\" class=\"dataframe\">\n",
       "  <thead>\n",
       "    <tr style=\"text-align: right;\">\n",
       "      <th></th>\n",
       "      <th>feijao</th>\n",
       "      <th>arroz</th>\n",
       "    </tr>\n",
       "  </thead>\n",
       "  <tbody>\n",
       "    <tr>\n",
       "      <th>0</th>\n",
       "      <td>6.87</td>\n",
       "      <td>13.05</td>\n",
       "    </tr>\n",
       "    <tr>\n",
       "      <th>1</th>\n",
       "      <td>6.40</td>\n",
       "      <td>12.16</td>\n",
       "    </tr>\n",
       "    <tr>\n",
       "      <th>2</th>\n",
       "      <td>6.99</td>\n",
       "      <td>11.99</td>\n",
       "    </tr>\n",
       "    <tr>\n",
       "      <th>3</th>\n",
       "      <td>7.64</td>\n",
       "      <td>12.01</td>\n",
       "    </tr>\n",
       "    <tr>\n",
       "      <th>4</th>\n",
       "      <td>6.32</td>\n",
       "      <td>11.89</td>\n",
       "    </tr>\n",
       "  </tbody>\n",
       "</table>\n",
       "</div>"
      ],
      "text/plain": [
       "   feijao  arroz\n",
       "0    6.87  13.05\n",
       "1    6.40  12.16\n",
       "2    6.99  11.99\n",
       "3    7.64  12.01\n",
       "4    6.32  11.89"
      ]
     },
     "execution_count": 6,
     "metadata": {},
     "output_type": "execute_result"
    }
   ],
   "source": [
    "# Visualizando primeiras linhas da base\n",
    "df.head()"
   ]
  },
  {
   "cell_type": "code",
   "execution_count": 9,
   "id": "e04b275d",
   "metadata": {},
   "outputs": [
    {
     "data": {
      "text/html": [
       "<div>\n",
       "<style scoped>\n",
       "    .dataframe tbody tr th:only-of-type {\n",
       "        vertical-align: middle;\n",
       "    }\n",
       "\n",
       "    .dataframe tbody tr th {\n",
       "        vertical-align: top;\n",
       "    }\n",
       "\n",
       "    .dataframe thead th {\n",
       "        text-align: right;\n",
       "    }\n",
       "</style>\n",
       "<table border=\"1\" class=\"dataframe\">\n",
       "  <thead>\n",
       "    <tr style=\"text-align: right;\">\n",
       "      <th></th>\n",
       "      <th>feijao</th>\n",
       "      <th>arroz</th>\n",
       "    </tr>\n",
       "  </thead>\n",
       "  <tbody>\n",
       "    <tr>\n",
       "      <th>count</th>\n",
       "      <td>1000.00</td>\n",
       "      <td>1000.00</td>\n",
       "    </tr>\n",
       "    <tr>\n",
       "      <th>mean</th>\n",
       "      <td>6.51</td>\n",
       "      <td>11.53</td>\n",
       "    </tr>\n",
       "    <tr>\n",
       "      <th>std</th>\n",
       "      <td>0.73</td>\n",
       "      <td>1.11</td>\n",
       "    </tr>\n",
       "    <tr>\n",
       "      <th>min</th>\n",
       "      <td>4.07</td>\n",
       "      <td>8.13</td>\n",
       "    </tr>\n",
       "    <tr>\n",
       "      <th>25%</th>\n",
       "      <td>6.02</td>\n",
       "      <td>10.86</td>\n",
       "    </tr>\n",
       "    <tr>\n",
       "      <th>50%</th>\n",
       "      <td>6.52</td>\n",
       "      <td>11.48</td>\n",
       "    </tr>\n",
       "    <tr>\n",
       "      <th>75%</th>\n",
       "      <td>6.99</td>\n",
       "      <td>12.24</td>\n",
       "    </tr>\n",
       "    <tr>\n",
       "      <th>max</th>\n",
       "      <td>9.39</td>\n",
       "      <td>15.85</td>\n",
       "    </tr>\n",
       "  </tbody>\n",
       "</table>\n",
       "</div>"
      ],
      "text/plain": [
       "        feijao    arroz\n",
       "count  1000.00  1000.00\n",
       "mean      6.51    11.53\n",
       "std       0.73     1.11\n",
       "min       4.07     8.13\n",
       "25%       6.02    10.86\n",
       "50%       6.52    11.48\n",
       "75%       6.99    12.24\n",
       "max       9.39    15.85"
      ]
     },
     "execution_count": 9,
     "metadata": {},
     "output_type": "execute_result"
    }
   ],
   "source": [
    "# Sumarização da base\n",
    "df.describe().round(2)"
   ]
  },
  {
   "cell_type": "markdown",
   "id": "163b8238",
   "metadata": {},
   "source": [
    "<strong>\n",
    "    Conclusão:\n",
    "</strong>\n",
    "\n",
    "<p>\n",
    "    Tem-se que o preço do arroz é em média superior ao do feijão e comparando os quartis, pode-se ter a mesma conclusão.\n",
    "</p>"
   ]
  },
  {
   "cell_type": "markdown",
   "id": "3b3ba05a",
   "metadata": {},
   "source": [
    "<strong style=\"font-size: 18px\">\n",
    "    Contexto de estudo:\n",
    "</strong>\n",
    "\n",
    "<p>\n",
    "    Para essa demonstração, utiliza-se a ideia de predizer o preço do arroz a partir do preço do feijão.\n",
    "</p>"
   ]
  },
  {
   "cell_type": "code",
   "execution_count": 75,
   "id": "60576175",
   "metadata": {},
   "outputs": [],
   "source": [
    "# Separando as variáveis em independente e dependente\n",
    "X = df.feijao.values\n",
    "y = df.arroz.values"
   ]
  },
  {
   "cell_type": "code",
   "execution_count": 76,
   "id": "2652d3a3",
   "metadata": {},
   "outputs": [
    {
     "data": {
      "image/png": "[encoded data removed]",
      "text/plain": [
       "<Figure size 576x360 with 1 Axes>"
      ]
     },
     "metadata": {},
     "output_type": "display_data"
    }
   ],
   "source": [
    "largura = 8 # Largura do gráfico\n",
    "altura = 5 # Altura do gráfico\n",
    "\n",
    "# Definindo o estilo do gráfico\n",
    "sns.set(style=\"white\") \n",
    "plt.rcParams['font.sans-serif'] = 'Arial' # Estilo de fonte\n",
    "font_style = 'Arial' # Estilo de fonte\n",
    "\n",
    "# Configurando dimensão do gráfico\n",
    "fig, ax = plt.subplots(figsize=(largura, altura))\n",
    "\n",
    "# Plotando os gráficos\n",
    "sns.kdeplot(X, color='#003366', fill=True, label='feijão')\n",
    "sns.kdeplot(y, color='#FF8C00', fill=True, label='arroz')\n",
    "\n",
    "# Configuração de texto - títulos e eixos\n",
    "plt.title('Curva de densidade', fontsize=16, color='gray')\n",
    "ax.set_ylabel('\\n Densidade', fontsize=14, color='gray')\n",
    "ax.set_xlabel('\\n Preço', fontsize=14, color='gray')\n",
    "\n",
    "ax.spines['top'].set_color('#F0F0F0')\n",
    "ax.spines['right'].set_color('#F0F0F0')\n",
    "ax.spines['left'].set_color('#F0F0F0')\n",
    "ax.spines['bottom'].set_color('#F0F0F0')\n",
    "\n",
    "ax.tick_params(axis='x', colors='gray')\n",
    "ax.tick_params(axis='y', colors='gray')\n",
    "\n",
    "ax.legend(frameon=False)\n",
    "\n",
    "plt.show()"
   ]
  },
  {
   "cell_type": "markdown",
   "id": "e6cfad92",
   "metadata": {},
   "source": [
    "<strong>\n",
    "    Conclusão:\n",
    "</strong>\n",
    "\n",
    "<p>\n",
    "    Esse gráfico confirma que o preço do arroz é superior ao do feijão ao longo da base de dados.\n",
    "</p>"
   ]
  },
  {
   "cell_type": "code",
   "execution_count": 77,
   "id": "a1d27ddc",
   "metadata": {},
   "outputs": [
    {
     "data": {
      "text/html": [
       "<div>\n",
       "<style scoped>\n",
       "    .dataframe tbody tr th:only-of-type {\n",
       "        vertical-align: middle;\n",
       "    }\n",
       "\n",
       "    .dataframe tbody tr th {\n",
       "        vertical-align: top;\n",
       "    }\n",
       "\n",
       "    .dataframe thead th {\n",
       "        text-align: right;\n",
       "    }\n",
       "</style>\n",
       "<table border=\"1\" class=\"dataframe\">\n",
       "  <thead>\n",
       "    <tr style=\"text-align: right;\">\n",
       "      <th></th>\n",
       "      <th>feijao</th>\n",
       "      <th>arroz</th>\n",
       "    </tr>\n",
       "  </thead>\n",
       "  <tbody>\n",
       "    <tr>\n",
       "      <th>feijao</th>\n",
       "      <td>1.000000</td>\n",
       "      <td>0.620341</td>\n",
       "    </tr>\n",
       "    <tr>\n",
       "      <th>arroz</th>\n",
       "      <td>0.620341</td>\n",
       "      <td>1.000000</td>\n",
       "    </tr>\n",
       "  </tbody>\n",
       "</table>\n",
       "</div>"
      ],
      "text/plain": [
       "          feijao     arroz\n",
       "feijao  1.000000  0.620341\n",
       "arroz   0.620341  1.000000"
      ]
     },
     "execution_count": 77,
     "metadata": {},
     "output_type": "execute_result"
    }
   ],
   "source": [
    "# Observando correlação\n",
    "df.corr()"
   ]
  },
  {
   "cell_type": "markdown",
   "id": "8fa17992",
   "metadata": {},
   "source": [
    "<strong>\n",
    "    Conclusão:\n",
    "</strong>\n",
    "\n",
    "<p>\n",
    "    Ocorre correlação significativa entre o preço de ambos os produtos.\n",
    "</p>"
   ]
  },
  {
   "cell_type": "code",
   "execution_count": 78,
   "id": "3528ca07",
   "metadata": {},
   "outputs": [
    {
     "data": {
      "image/png": "[encoded data removed]",
      "text/plain": [
       "<Figure size 576x360 with 1 Axes>"
      ]
     },
     "metadata": {},
     "output_type": "display_data"
    }
   ],
   "source": [
    "# Definido tamanho do gráfico\n",
    "largura = 8\n",
    "altura = 5\n",
    "\n",
    "# Configuração tipo de fonte\n",
    "plt.rcParams['font.sans-serif'] = 'Arial'\n",
    "\n",
    "# Aplicando dimensão do gráfico\n",
    "fig, ax = plt.subplots(figsize=(largura, altura))\n",
    "\n",
    "# Plotando dados\n",
    "sns.scatterplot(data=df, x='feijao', y='arroz', color='blue')\n",
    "\n",
    "# Renomeações de título e eixos\n",
    "plt.title('Linearidade entre feijão e arroz', fontsize=16, color='gray')\n",
    "ax.set_ylabel('\\nArroz', fontsize=14, color='gray')\n",
    "ax.set_xlabel('\\nFeijão', fontsize=14, color='gray')\n",
    "\n",
    "# Configurando cores das bordas\n",
    "ax.spines['top'].set_color('#F0F0F0')\n",
    "ax.spines['right'].set_color('#F0F0F0')\n",
    "ax.spines['left'].set_color('#F0F0F0')\n",
    "ax.spines['bottom'].set_color('#F0F0F0')\n",
    "\n",
    "# Configurando cores dos valores dos eixos\n",
    "ax.tick_params(axis='x', colors='gray')\n",
    "ax.tick_params(axis='y', colors='gray')\n",
    "\n",
    "plt.show()"
   ]
  },
  {
   "cell_type": "markdown",
   "id": "6ec7f421",
   "metadata": {},
   "source": [
    "<strong>\n",
    "    Conclusão:\n",
    "</strong>\n",
    "\n",
    "<p>\n",
    "    Confirma-se a linearidade entre o preço dos produtos.\n",
    "</p>"
   ]
  },
  {
   "cell_type": "markdown",
   "id": "6bf2f6d3",
   "metadata": {},
   "source": [
    "<strong style=\"color: #800000; font-size: 18px\">\n",
    "    Normalidade dos dados\n",
    "</strong>\n",
    "\n",
    "<p>\n",
    "    Nessa etapa, busca-se compreensão da distribuição dos dados referente a curva normal.\n",
    "</p>"
   ]
  },
  {
   "cell_type": "code",
   "execution_count": 79,
   "id": "0ca35946",
   "metadata": {},
   "outputs": [],
   "source": [
    "# Importação dos testes de normalidade\n",
    "from scipy.stats import shapiro, kstest, anderson"
   ]
  },
  {
   "cell_type": "code",
   "execution_count": 80,
   "id": "89a7ef50",
   "metadata": {},
   "outputs": [
    {
     "name": "stdout",
     "output_type": "stream",
     "text": [
      "Shapiro-Wilk: Os dados parecem normalmente distribuídos.\n",
      "KS: Os dados não seguem uma distribuição normal.\n",
      "\n",
      "Anderson-Darling:\n",
      "Para 15.0% de significância: Os dados parecem normalmente distribuídos.\n",
      "Para 10.0% de significância: Os dados parecem normalmente distribuídos.\n",
      "Para 5.0% de significância: Os dados parecem normalmente distribuídos.\n",
      "Para 2.5% de significância: Os dados parecem normalmente distribuídos.\n",
      "Para 1.0% de significância: Os dados parecem normalmente distribuídos.\n"
     ]
    }
   ],
   "source": [
    "# Testando normalidade dos dados - FEIJÃO\n",
    "\n",
    "# Executando\n",
    "estat_shapiro, p_valor_shapiro = shapiro(X) # Shapiro-Wilk\n",
    "estat_kstest, p_valor_kstest = kstest(X, 'norm') # KS-Teste\n",
    "resultado_anderson = anderson(X, dist='norm') # Anderson-Darling\n",
    "\n",
    "# Interpretação Shapiro-Wilk\n",
    "if p_valor_shapiro > 0.05:\n",
    "    print(\"Shapiro-Wilk: Os dados parecem normalmente distribuídos.\")\n",
    "else:\n",
    "    print(\"Shapiro-Wilk: Os dados não seguem uma distribuição normal.\")\n",
    "    \n",
    "# Interpretação KS-teste\n",
    "if p_valor_kstest > 0.05:\n",
    "    print(\"KS: Os dados parecem normalmente distribuídos.\")\n",
    "else:\n",
    "    print(\"KS: Os dados não seguem uma distribuição normal.\")\n",
    "    \n",
    "print('\\nAnderson-Darling:')\n",
    "# Interpretação Anderson-Darling\n",
    "for i in range(len(resultado_anderson.critical_values)):\n",
    "    nivel_significancia, valor_critico = resultado_anderson.significance_level[i], resultado_anderson.critical_values[i]\n",
    "    if resultado_anderson.statistic < valor_critico:\n",
    "        print(f\"Para {nivel_significancia}% de significância: Os dados parecem normalmente distribuídos.\")\n",
    "    else:\n",
    "        print(f\"Para {nivel_significancia}% de significância: Os dados NÃO seguem uma distribuição normal.\")"
   ]
  },
  {
   "cell_type": "markdown",
   "id": "b2ebd219",
   "metadata": {},
   "source": [
    "<strong>\n",
    "    Conclusão:\n",
    "</strong>\n",
    "\n",
    "<p>\n",
    "    De acordo com os três testes, preço do feijão segue uma distribuição normal.\n",
    "</p>"
   ]
  },
  {
   "cell_type": "code",
   "execution_count": 81,
   "id": "53fa7b67",
   "metadata": {},
   "outputs": [
    {
     "name": "stdout",
     "output_type": "stream",
     "text": [
      "Shapiro-Wilk: Os dados não seguem uma distribuição normal.\n",
      "KS: Os dados não seguem uma distribuição normal.\n",
      "\n",
      "Anderson-Darling:\n",
      "Para 15.0% de significância: Os dados NÃO seguem uma distribuição normal.\n",
      "Para 10.0% de significância: Os dados NÃO seguem uma distribuição normal.\n",
      "Para 5.0% de significância: Os dados NÃO seguem uma distribuição normal.\n",
      "Para 2.5% de significância: Os dados NÃO seguem uma distribuição normal.\n",
      "Para 1.0% de significância: Os dados NÃO seguem uma distribuição normal.\n"
     ]
    }
   ],
   "source": [
    "# Testando normalidade dos dados - ARROZ\n",
    "\n",
    "# Executando\n",
    "estat_shapiro, p_valor_shapiro = shapiro(y) # Shapiro-Wilk\n",
    "estat_kstest, p_valor_kstest = kstest(y, 'norm') # KS-Teste\n",
    "resultado_anderson = anderson(y, dist='norm') # Anderson-Darling\n",
    "\n",
    "# Interpretação Shapiro-Wilk\n",
    "if p_valor_shapiro > 0.05:\n",
    "    print(\"Shapiro-Wilk: Os dados parecem normalmente distribuídos.\")\n",
    "else:\n",
    "    print(\"Shapiro-Wilk: Os dados não seguem uma distribuição normal.\")\n",
    "    \n",
    "# Interpretação KS-teste\n",
    "if p_valor_kstest > 0.05:\n",
    "    print(\"KS: Os dados parecem normalmente distribuídos.\")\n",
    "else:\n",
    "    print(\"KS: Os dados não seguem uma distribuição normal.\")\n",
    "    \n",
    "print('\\nAnderson-Darling:')\n",
    "# Interpretação Anderson-Darling\n",
    "for i in range(len(resultado_anderson.critical_values)):\n",
    "    nivel_significancia, valor_critico = resultado_anderson.significance_level[i], resultado_anderson.critical_values[i]\n",
    "    if resultado_anderson.statistic < valor_critico:\n",
    "        print(f\"Para {nivel_significancia}% de significância: Os dados parecem normalmente distribuídos.\")\n",
    "    else:\n",
    "        print(f\"Para {nivel_significancia}% de significância: Os dados NÃO seguem uma distribuição normal.\")"
   ]
  },
  {
   "cell_type": "markdown",
   "id": "9a25a314",
   "metadata": {},
   "source": [
    "<strong>\n",
    "    Conclusão:\n",
    "</strong>\n",
    "\n",
    "<p>\n",
    "    De acordo com os três testes, o preço do arroz não segue uma distribuição normal.\n",
    "</p>"
   ]
  },
  {
   "cell_type": "markdown",
   "id": "64702edd",
   "metadata": {},
   "source": [
    "<strong style=\"color: #800000; font-size: 20px\">\n",
    "    2. Treinamento do modelo\n",
    "</strong>\n",
    "\n",
    "<p>\n",
    "    Nessa etapa, separa-se o conjunto de dados em treinamento e teste.\n",
    "    A parte de treinamento servirá para treinar o modelo. A parte de teste, para validação mais a frente.\n",
    "</p>"
   ]
  },
  {
   "cell_type": "code",
   "execution_count": 82,
   "id": "b315b4c8",
   "metadata": {},
   "outputs": [],
   "source": [
    "# Separação dos dados em treinamento e teste\n",
    "from sklearn.model_selection import train_test_split"
   ]
  },
  {
   "cell_type": "code",
   "execution_count": 83,
   "id": "de5f2185",
   "metadata": {},
   "outputs": [],
   "source": [
    "# Criando separaçao entre preditores e respostas em matrizes e vetores de treinamento e teste\n",
    "X_treinamento, X_teste, y_treinamento, y_teste = train_test_split(X, y, test_size=0.2, random_state=42)"
   ]
  },
  {
   "cell_type": "code",
   "execution_count": 84,
   "id": "f57a7f54",
   "metadata": {},
   "outputs": [
    {
     "data": {
      "text/plain": [
       "((800,), (200,), (800,), (200,))"
      ]
     },
     "execution_count": 84,
     "metadata": {},
     "output_type": "execute_result"
    }
   ],
   "source": [
    "# 800 dados para treinamento e 200 para teste (validação)\n",
    "X_treinamento.shape, X_teste.shape, y_treinamento.shape, y_teste.shape"
   ]
  },
  {
   "cell_type": "markdown",
   "id": "35278cd7",
   "metadata": {},
   "source": [
    "<strong style=\"color: #800000; font-size: 18px\">\n",
    "    Treinamento do modelo\n",
    "</strong>\n",
    "\n",
    "<p>\n",
    "    Inicialmente, importa-se:\n",
    "       \n",
    "    1. algoritmo proposto;\n",
    "    2. algoritmo do pacote scikit-learn para comparação dos resultados;\n",
    "    3. métricas do scikit-learn para validação das métricas no pacote proposto.\n",
    "</p>"
   ]
  },
  {
   "cell_type": "code",
   "execution_count": 85,
   "id": "39947697",
   "metadata": {},
   "outputs": [],
   "source": [
    "# Importando classe Regressão Linear BRC e Scikit-Learn\n",
    "from modelo_regressao_linear_brasil import RegressaoLinearBRC\n",
    "from sklearn.linear_model import LinearRegression\n",
    "\n",
    "# Importando métricas do sklearn\n",
    "from sklearn.metrics import mean_absolute_error, mean_squared_error, r2_score"
   ]
  },
  {
   "cell_type": "code",
   "execution_count": 86,
   "id": "63a0dd4e",
   "metadata": {},
   "outputs": [],
   "source": [
    "# Instanciando modelo BRC\n",
    "modelo_brc = RegressaoLinearBRC()"
   ]
  },
  {
   "cell_type": "code",
   "execution_count": 87,
   "id": "64329da7",
   "metadata": {},
   "outputs": [
    {
     "data": {
      "text/plain": [
       "array([5.56493458, 0.91744177])"
      ]
     },
     "execution_count": 87,
     "metadata": {},
     "output_type": "execute_result"
    }
   ],
   "source": [
    "# Realizando ajuste do modelo BRC\n",
    "modelo_brc.ajuste(X_treinamento, y_treinamento)"
   ]
  },
  {
   "cell_type": "code",
   "execution_count": 125,
   "id": "5b6ae638",
   "metadata": {},
   "outputs": [
    {
     "data": {
      "text/plain": [
       "'5.564934583749978 + 0.9174417727028592 * X1'"
      ]
     },
     "execution_count": 125,
     "metadata": {},
     "output_type": "execute_result"
    }
   ],
   "source": [
    "# Equação do modelo\n",
    "modelo_brc.equacao()"
   ]
  },
  {
   "cell_type": "markdown",
   "id": "e3d8090b",
   "metadata": {},
   "source": [
    "<strong style=\"color: #800000; font-size: 18px\">\n",
    "    Predição\n",
    "</strong>\n",
    "\n",
    "<p>\n",
    "    Após treinamento, ocorre a predição a partir dos dados de teste.\n",
    "</p>"
   ]
  },
  {
   "cell_type": "code",
   "execution_count": 129,
   "id": "dd2e83c2",
   "metadata": {},
   "outputs": [],
   "source": [
    "# Predição\n",
    "y_pred = modelo_brc.predizer(X_teste)"
   ]
  },
  {
   "cell_type": "markdown",
   "id": "98edb711",
   "metadata": {},
   "source": [
    "<strong style=\"color: #800000; font-size: 20px\">\n",
    "    3. Validação do modelo\n",
    "</strong>\n",
    "\n",
    "<p>\n",
    "    Nessa etapa, utiliza-se as métricas presentes na classe proposta e as métricas do scikit-learn.\n",
    "    Mais a frente, observa-se os valores do modelo proposto com o modelo LinearRegression do scikit-learn.\n",
    "</p>"
   ]
  },
  {
   "cell_type": "markdown",
   "id": "ae237fc4",
   "metadata": {},
   "source": [
    "<strong style=\"color: #800000; font-size: 18px\">\n",
    "    3.1 Pelas métricas\n",
    "</strong>"
   ]
  },
  {
   "cell_type": "code",
   "execution_count": 89,
   "id": "99828370",
   "metadata": {},
   "outputs": [
    {
     "name": "stdout",
     "output_type": "stream",
     "text": [
      "MAE - SkLearn:  0.693203344861867\n",
      "MAE - BRC:  0.693203344861867\n"
     ]
    }
   ],
   "source": [
    "# Análise das métricas BRC vs SkLearn - MAE\n",
    "print('MAE - SkLearn: ', mean_absolute_error(y_pred, y_teste))\n",
    "print('MAE - BRC: ', modelo_brc.erro_absoluto_medio(y_teste))"
   ]
  },
  {
   "cell_type": "markdown",
   "id": "4ecee085",
   "metadata": {},
   "source": [
    "<strong>\n",
    "    Conclusão - Erro Absoluto Médio (MAE):\n",
    "</strong>\n",
    "\n",
    "<p>\n",
    "    O resultado do MAE presente na classe proposta está igual ao MAE do scikit-learn.\n",
    "</p>"
   ]
  },
  {
   "cell_type": "code",
   "execution_count": 90,
   "id": "153791d7",
   "metadata": {},
   "outputs": [
    {
     "name": "stdout",
     "output_type": "stream",
     "text": [
      "MSE - SkLearn:  0.7817304374902342\n",
      "MSE - BRC:  0.7817304374902342\n"
     ]
    }
   ],
   "source": [
    "# Análise das métricas BRC vs SkLearn - MSE\n",
    "print('MSE - SkLearn: ', mean_squared_error(y_pred, y_teste))\n",
    "print('MSE - BRC: ', modelo_brc.erro_quadrado_medio(y_teste))"
   ]
  },
  {
   "cell_type": "markdown",
   "id": "817b0ef1",
   "metadata": {},
   "source": [
    "<strong>\n",
    "    Conclusão - Erro Quadrado Médio (MSE):\n",
    "</strong>\n",
    "\n",
    "<p>\n",
    "    O resultado do MSE presente na classe proposta está igual ao MSE do scikit-learn.\n",
    "</p>"
   ]
  },
  {
   "cell_type": "code",
   "execution_count": 91,
   "id": "a1d58571",
   "metadata": {},
   "outputs": [
    {
     "name": "stdout",
     "output_type": "stream",
     "text": [
      "RMSE - SkLearn:  0.8841552111989355\n",
      "RMSE - BRC:  0.8841552111989355\n"
     ]
    }
   ],
   "source": [
    "# Análise das métricas BRC vs SkLearn - MSE\n",
    "print('RMSE - SkLearn: ', np.sqrt(mean_squared_error(y_pred, y_teste)))\n",
    "print('RMSE - BRC: ', modelo_brc.raiz_quadrada_erro_quadrado_medio(y_teste))"
   ]
  },
  {
   "cell_type": "markdown",
   "id": "81a31998",
   "metadata": {},
   "source": [
    "<strong>\n",
    "    Conclusão - Raiz do Erro Quadrado Médio (RMSE):\n",
    "</strong>\n",
    "\n",
    "<p>\n",
    "    O resultado do RMSE presente na classe proposta está igual ao RMSE do scikit-learn.\n",
    "</p>"
   ]
  },
  {
   "cell_type": "code",
   "execution_count": 92,
   "id": "4f2d3600",
   "metadata": {},
   "outputs": [
    {
     "name": "stdout",
     "output_type": "stream",
     "text": [
      "R² - SkLearn:  0.4187473277371824\n",
      "R² - BRC:  0.4187473277371824\n"
     ]
    }
   ],
   "source": [
    "# Análise das métricas BRC vs SkLearn - R²\n",
    "print('R² - SkLearn: ', r2_score(y_teste, y_pred))\n",
    "print('R² - BRC: ', modelo_brc.r_quadrado(y_teste))"
   ]
  },
  {
   "cell_type": "markdown",
   "id": "02de00d5",
   "metadata": {},
   "source": [
    "<strong>\n",
    "    Conclusão - R²:\n",
    "</strong>\n",
    "\n",
    "<p>\n",
    "    O resultado do R² presente na classe proposta está igual ao R² do scikit-learn.\n",
    "</p>"
   ]
  },
  {
   "cell_type": "code",
   "execution_count": 93,
   "id": "a13f36fb",
   "metadata": {},
   "outputs": [
    {
     "name": "stdout",
     "output_type": "stream",
     "text": [
      "R² Ajustado - SkLearn:  0.41581170818029944\n",
      "R² Ajustado - BRC:  0.41581170818029944\n"
     ]
    }
   ],
   "source": [
    "# Análise das métricas BRC vs SkLearn - R² ajustado\n",
    "\n",
    "# Definindo valores para R² ajustado SkLearn\n",
    "n = len(X_teste)  # Número de observações\n",
    "p = 1  # Número de preditores\n",
    "\n",
    "# Cálculo R² ajustado SkLearn\n",
    "r2_score_sklearn =  r2_score(y_teste, y_pred)\n",
    "r2_ajustado = 1 - (1 - r2_score_sklearn) * (n - 1) / (n - p - 1)\n",
    "\n",
    "print('R² Ajustado - SkLearn: ', r2_ajustado)\n",
    "print('R² Ajustado - BRC: ', modelo_brc.r_quadrado_ajustado(y_teste, 1))"
   ]
  },
  {
   "cell_type": "markdown",
   "id": "d25f956e",
   "metadata": {},
   "source": [
    "<strong>\n",
    "    Conclusão - R²-Ajustado:\n",
    "</strong>\n",
    "\n",
    "<p>\n",
    "    O resultado do R²-Ajustado presente na classe proposta está igual ao R²-Ajustado do scikit-learn.\n",
    "</p>"
   ]
  },
  {
   "cell_type": "markdown",
   "id": "09e93a78",
   "metadata": {},
   "source": [
    "<strong style=\"color: #800000; font-size: 18px\">\n",
    "    3.2 Pelo algoritmo LinearRegression do Scikit-Learn\n",
    "</strong>"
   ]
  },
  {
   "cell_type": "markdown",
   "id": "9b561d4c",
   "metadata": {},
   "source": [
    "<strong style=\"color: #800000; font-size: 16px\">\n",
    "    Treinamento\n",
    "</strong>"
   ]
  },
  {
   "cell_type": "code",
   "execution_count": 94,
   "id": "54f9cc2a",
   "metadata": {},
   "outputs": [],
   "source": [
    "# Instanciando classe SkLearn\n",
    "modelo_sklearn = LinearRegression()"
   ]
  },
  {
   "cell_type": "code",
   "execution_count": 132,
   "id": "52defb9e",
   "metadata": {},
   "outputs": [
    {
     "data": {
      "text/html": [
       "<style>#sk-container-id-3 {color: black;}#sk-container-id-3 pre{padding: 0;}#sk-container-id-3 div.sk-toggleable {background-color: white;}#sk-container-id-3 label.sk-toggleable__label {cursor: pointer;display: block;width: 100%;margin-bottom: 0;padding: 0.3em;box-sizing: border-box;text-align: center;}#sk-container-id-3 label.sk-toggleable__label-arrow:before {content: \"▸\";float: left;margin-right: 0.25em;color: #696969;}#sk-container-id-3 label.sk-toggleable__label-arrow:hover:before {color: black;}#sk-container-id-3 div.sk-estimator:hover label.sk-toggleable__label-arrow:before {color: black;}#sk-container-id-3 div.sk-toggleable__content {max-height: 0;max-width: 0;overflow: hidden;text-align: left;background-color: #f0f8ff;}#sk-container-id-3 div.sk-toggleable__content pre {margin: 0.2em;color: black;border-radius: 0.25em;background-color: #f0f8ff;}#sk-container-id-3 input.sk-toggleable__control:checked~div.sk-toggleable__content {max-height: 200px;max-width: 100%;overflow: auto;}#sk-container-id-3 input.sk-toggleable__control:checked~label.sk-toggleable__label-arrow:before {content: \"▾\";}#sk-container-id-3 div.sk-estimator input.sk-toggleable__control:checked~label.sk-toggleable__label {background-color: #d4ebff;}#sk-container-id-3 div.sk-label input.sk-toggleable__control:checked~label.sk-toggleable__label {background-color: #d4ebff;}#sk-container-id-3 input.sk-hidden--visually {border: 0;clip: rect(1px 1px 1px 1px);clip: rect(1px, 1px, 1px, 1px);height: 1px;margin: -1px;overflow: hidden;padding: 0;position: absolute;width: 1px;}#sk-container-id-3 div.sk-estimator {font-family: monospace;background-color: #f0f8ff;border: 1px dotted black;border-radius: 0.25em;box-sizing: border-box;margin-bottom: 0.5em;}#sk-container-id-3 div.sk-estimator:hover {background-color: #d4ebff;}#sk-container-id-3 div.sk-parallel-item::after {content: \"\";width: 100%;border-bottom: 1px solid gray;flex-grow: 1;}#sk-container-id-3 div.sk-label:hover label.sk-toggleable__label {background-color: #d4ebff;}#sk-container-id-3 div.sk-serial::before {content: \"\";position: absolute;border-left: 1px solid gray;box-sizing: border-box;top: 0;bottom: 0;left: 50%;z-index: 0;}#sk-container-id-3 div.sk-serial {display: flex;flex-direction: column;align-items: center;background-color: white;padding-right: 0.2em;padding-left: 0.2em;position: relative;}#sk-container-id-3 div.sk-item {position: relative;z-index: 1;}#sk-container-id-3 div.sk-parallel {display: flex;align-items: stretch;justify-content: center;background-color: white;position: relative;}#sk-container-id-3 div.sk-item::before, #sk-container-id-3 div.sk-parallel-item::before {content: \"\";position: absolute;border-left: 1px solid gray;box-sizing: border-box;top: 0;bottom: 0;left: 50%;z-index: -1;}#sk-container-id-3 div.sk-parallel-item {display: flex;flex-direction: column;z-index: 1;position: relative;background-color: white;}#sk-container-id-3 div.sk-parallel-item:first-child::after {align-self: flex-end;width: 50%;}#sk-container-id-3 div.sk-parallel-item:last-child::after {align-self: flex-start;width: 50%;}#sk-container-id-3 div.sk-parallel-item:only-child::after {width: 0;}#sk-container-id-3 div.sk-dashed-wrapped {border: 1px dashed gray;margin: 0 0.4em 0.5em 0.4em;box-sizing: border-box;padding-bottom: 0.4em;background-color: white;}#sk-container-id-3 div.sk-label label {font-family: monospace;font-weight: bold;display: inline-block;line-height: 1.2em;}#sk-container-id-3 div.sk-label-container {text-align: center;}#sk-container-id-3 div.sk-container {/* jupyter's `normalize.less` sets `[hidden] { display: none; }` but bootstrap.min.css set `[hidden] { display: none !important; }` so we also need the `!important` here to be able to override the default hidden behavior on the sphinx rendered scikit-learn.org. See: https://github.com/scikit-learn/scikit-learn/issues/21755 */display: inline-block !important;position: relative;}#sk-container-id-3 div.sk-text-repr-fallback {display: none;}</style><div id=\"sk-container-id-3\" class=\"sk-top-container\"><div class=\"sk-text-repr-fallback\"><pre>LinearRegression()</pre><b>In a Jupyter environment, please rerun this cell to show the HTML representation or trust the notebook. <br />On GitHub, the HTML representation is unable to render, please try loading this page with nbviewer.org.</b></div><div class=\"sk-container\" hidden><div class=\"sk-item\"><div class=\"sk-estimator sk-toggleable\"><input class=\"sk-toggleable__control sk-hidden--visually\" id=\"sk-estimator-id-3\" type=\"checkbox\" checked><label for=\"sk-estimator-id-3\" class=\"sk-toggleable__label sk-toggleable__label-arrow\">LinearRegression</label><div class=\"sk-toggleable__content\"><pre>LinearRegression()</pre></div></div></div></div></div>"
      ],
      "text/plain": [
       "LinearRegression()"
      ]
     },
     "execution_count": 132,
     "metadata": {},
     "output_type": "execute_result"
    }
   ],
   "source": [
    "# Ajustando modelo sklearn\n",
    "modelo_sklearn.fit(X_treinamento.reshape(-1,1), y_treinamento)"
   ]
  },
  {
   "cell_type": "markdown",
   "id": "56b04959",
   "metadata": {},
   "source": [
    "<strong style=\"color: #800000; font-size: 16px\">\n",
    "    Predição\n",
    "</strong>"
   ]
  },
  {
   "cell_type": "code",
   "execution_count": 133,
   "id": "a8a845d5",
   "metadata": {},
   "outputs": [],
   "source": [
    "# Predizendo sklearn\n",
    "y_pred_sklearn = modelo_sklearn.predict(X_teste.reshape(-1,1))"
   ]
  },
  {
   "cell_type": "markdown",
   "id": "f91fede8",
   "metadata": {},
   "source": [
    "<strong style=\"color: #800000; font-size: 16px\">\n",
    "    Comparação da predição de cada modelo (Proposto x Scikit-Learn)\n",
    "</strong>"
   ]
  },
  {
   "cell_type": "code",
   "execution_count": 137,
   "id": "79df55e8",
   "metadata": {},
   "outputs": [
    {
     "name": "stdout",
     "output_type": "stream",
     "text": [
      "MAE - SkLearn:  0.6932\n",
      "MAE - BRC:  0.6932\n",
      "\n",
      "Diferença:  0.0\n"
     ]
    }
   ],
   "source": [
    "# Análise das métricas BRC vs SkLearn - MAE\n",
    "print('MAE - SkLearn: ', mean_absolute_error(y_pred_sklearn, y_teste).round(4))\n",
    "print('MAE - BRC: ', modelo_brc.erro_absoluto_medio(y_teste).round(4))\n",
    "\n",
    "# Resultado MODELO BRUNO X MODELO SCIKIT-LEARN\n",
    "print('\\nDiferença: ', modelo_brc.erro_absoluto_medio(y_teste).round(4) - mean_absolute_error(y_pred_sklearn, y_teste).round(4))"
   ]
  },
  {
   "cell_type": "markdown",
   "id": "ddb5ec7d",
   "metadata": {},
   "source": [
    "<strong>\n",
    "    Conclusão - Erro Absoluto Médio (MAE):\n",
    "</strong>\n",
    "\n",
    "<p>\n",
    "    Ambos os modelos tiveram mesmo resultado.\n",
    "</p>"
   ]
  },
  {
   "cell_type": "code",
   "execution_count": 138,
   "id": "8141242c",
   "metadata": {},
   "outputs": [
    {
     "name": "stdout",
     "output_type": "stream",
     "text": [
      "MSE - SkLearn:  0.7817\n",
      "MSE - BRC:  0.7817\n",
      "\n",
      "Diferença:  0.0\n"
     ]
    }
   ],
   "source": [
    "# Análise das métricas BRC vs SkLearn - MSE\n",
    "print('MSE - SkLearn: ', mean_squared_error(y_pred_sklearn, y_teste).round(4))\n",
    "print('MSE - BRC: ', modelo_brc.erro_quadrado_medio(y_teste).round(4))\n",
    "\n",
    "# Resultado MODELO BRUNO X MODELO SCIKIT-LEARN\n",
    "print('\\nDiferença: ', modelo_brc.erro_quadrado_medio(y_teste).round(4) - mean_squared_error(y_pred_sklearn, y_teste).round(4))"
   ]
  },
  {
   "cell_type": "markdown",
   "id": "97ffb966",
   "metadata": {},
   "source": [
    "<strong>\n",
    "    Conclusão - Erro Quadrado Médio (MSE):\n",
    "</strong>\n",
    "\n",
    "<p>\n",
    "    Ambos os modelos tiveram mesmo resultado.\n",
    "</p>"
   ]
  },
  {
   "cell_type": "code",
   "execution_count": 146,
   "id": "792802a7",
   "metadata": {},
   "outputs": [
    {
     "name": "stdout",
     "output_type": "stream",
     "text": [
      "RMSE - SkLearn:  0.8842\n",
      "RMSE - BRC:  0.8842\n",
      "\n",
      "Diferença:  0.0\n"
     ]
    }
   ],
   "source": [
    "# Análise das métricas BRC vs SkLearn - RMSE\n",
    "print('RMSE - SkLearn: ', np.sqrt(mean_squared_error(y_pred_sklearn, y_teste)).round(4))\n",
    "print('RMSE - BRC: ', modelo_brc.raiz_quadrada_erro_quadrado_medio(y_teste).round(4))\n",
    "\n",
    "# Resultado MODELO BRUNO X MODELO SCIKIT-LEARN\n",
    "print('\\nDiferença: ', modelo_brc.raiz_quadrada_erro_quadrado_medio(y_teste).round(4) - np.sqrt(mean_squared_error(y_pred_sklearn, y_teste)).round(4))"
   ]
  },
  {
   "cell_type": "markdown",
   "id": "65e1c707",
   "metadata": {},
   "source": [
    "<strong>\n",
    "    Conclusão - Raiz Erro Quadrado Médio:\n",
    "</strong>\n",
    "\n",
    "<p>\n",
    "    Ambos os modelos tiveram mesmo resultado.\n",
    "</p>"
   ]
  },
  {
   "cell_type": "code",
   "execution_count": 147,
   "id": "6c9b669d",
   "metadata": {},
   "outputs": [
    {
     "name": "stdout",
     "output_type": "stream",
     "text": [
      "R² - SkLearn:  0.4187\n",
      "R² - BRC:  0.4187\n",
      "\n",
      "Diferença:  0.0\n"
     ]
    }
   ],
   "source": [
    "# Análise das métricas BRC vs SkLearn - R²\n",
    "print('R² - SkLearn: ', r2_score(y_teste, y_pred_sklearn).round(4))\n",
    "print('R² - BRC: ', modelo_brc.r_quadrado(y_teste).round(4))\n",
    "\n",
    "# Resultado MODELO BRUNO X MODELO SCIKIT-LEARN\n",
    "print('\\nDiferença: ', modelo_brc.r_quadrado(y_teste).round(4) - r2_score(y_teste, y_pred_sklearn).round(4))"
   ]
  },
  {
   "cell_type": "markdown",
   "id": "d4f2743d",
   "metadata": {},
   "source": [
    "<strong>\n",
    "    Conclusão - R²:\n",
    "</strong>\n",
    "\n",
    "<p>\n",
    "    Ambos os modelos tiveram mesmo resultado.\n",
    "</p>"
   ]
  },
  {
   "cell_type": "code",
   "execution_count": 148,
   "id": "8f2d6929",
   "metadata": {},
   "outputs": [
    {
     "name": "stdout",
     "output_type": "stream",
     "text": [
      "R² Ajustado - SkLearn:  0.4158\n",
      "R² Ajustado - BRC:  0.4158\n",
      "\n",
      "Diferença:  0.0\n"
     ]
    }
   ],
   "source": [
    "# Análise das métricas BRC vs SkLearn - R² ajustado\n",
    "\n",
    "# Definindo valores para R² ajustado SkLearn\n",
    "n = len(X_teste)  # Número de observações\n",
    "p = 1  # Número de preditores\n",
    "\n",
    "# Cálculo R² ajustado SkLearn\n",
    "r2_score_sklearn =  r2_score(y_teste, y_pred_sklearn)\n",
    "r2_ajustado = 1 - (1 - r2_score_sklearn) * (n - 1) / (n - p - 1)\n",
    "\n",
    "print('R² Ajustado - SkLearn: ', r2_ajustado.round(4))\n",
    "print('R² Ajustado - BRC: ', modelo_brc.r_quadrado_ajustado(y_teste, 1).round(4))\n",
    "print('\\nDiferença: ', modelo_brc.r_quadrado_ajustado(y_teste, 1).round(4) - r2_ajustado.round(4))"
   ]
  },
  {
   "cell_type": "markdown",
   "id": "e8a67bb5",
   "metadata": {},
   "source": [
    "<strong>\n",
    "    Conclusão - R²-Ajustado:\n",
    "</strong>\n",
    "\n",
    "<p>\n",
    "    Ambos os modelos tiveram mesmo resultado.\n",
    "</p>"
   ]
  },
  {
   "cell_type": "code",
   "execution_count": 152,
   "id": "1afdf4ed",
   "metadata": {},
   "outputs": [
    {
     "data": {
      "image/png": "[encoded data removed]",
      "text/plain": [
       "<Figure size 576x360 with 1 Axes>"
      ]
     },
     "metadata": {},
     "output_type": "display_data"
    }
   ],
   "source": [
    "largura = 8 # Largura do gráfico\n",
    "altura = 5 # Altura do gráfico\n",
    "\n",
    "# Definindo o estilo do gráfico\n",
    "sns.set(style=\"white\") \n",
    "plt.rcParams['font.sans-serif'] = 'Arial' # Estilo de fonte\n",
    "font_style = 'Arial' # Estilo de fonte\n",
    "\n",
    "# Configurando gráfico\n",
    "fig, ax = plt.subplots(figsize=(largura, altura))\n",
    "\n",
    "# Plotando a diferença entre observado Bruno e real\n",
    "sns.kdeplot((y_teste - y_pred), color='#003366', fill=True, label='RegressaoLinearBRC')\n",
    "\n",
    "# Plotando a diferença entre observado Scikit-Learn e real\n",
    "sns.kdeplot((y_teste - y_pred_sklearn), color='#FF8C00', fill=True, label='LinearRegression')\n",
    "\n",
    "# Configurando títulos dos eixos\n",
    "plt.title('Curva de densidade', fontsize=16, color='gray')\n",
    "ax.set_ylabel('\\n Densidade', fontsize=14, color='gray')\n",
    "ax.set_xlabel('\\n Diferença entre observado e real', fontsize=14, color='gray')\n",
    "\n",
    "# Parametrizando bordas\n",
    "ax.spines['top'].set_color('#F0F0F0')\n",
    "ax.spines['right'].set_color('#F0F0F0')\n",
    "ax.spines['left'].set_color('#F0F0F0')\n",
    "ax.spines['bottom'].set_color('#F0F0F0')\n",
    "\n",
    "# Parametrizando eixos\n",
    "ax.tick_params(axis='x', colors='gray')\n",
    "ax.tick_params(axis='y', colors='gray')\n",
    "\n",
    "# Ajuste de legenda\n",
    "ax.legend(frameon=False)\n",
    "\n",
    "plt.show()"
   ]
  },
  {
   "cell_type": "markdown",
   "id": "f89de000",
   "metadata": {},
   "source": [
    "<strong>\n",
    "    Conclusão:\n",
    "</strong>\n",
    "\n",
    "<p>\n",
    "    Os resíduos estão distribuidos muitíssimo similarmente.\n",
    "</p>"
   ]
  },
  {
   "cell_type": "code",
   "execution_count": null,
   "id": "701db6c1",
   "metadata": {},
   "outputs": [],
   "source": []
  },
  {
   "cell_type": "code",
   "execution_count": 153,
   "id": "cdd2404a",
   "metadata": {},
   "outputs": [],
   "source": [
    "import pickle"
   ]
  },
  {
   "cell_type": "code",
   "execution_count": 154,
   "id": "8517fd5e",
   "metadata": {},
   "outputs": [],
   "source": [
    "# Suponha que `modelo` seja o seu modelo treinado\n",
    "with open('Modelo_RegressaoLinearBRC.pkl', 'wb') as arquivo:\n",
    "    pickle.dump(modelo_brc, arquivo)"
   ]
  },
  {
   "cell_type": "code",
   "execution_count": 155,
   "id": "9ac9d230",
   "metadata": {},
   "outputs": [],
   "source": [
    "with open('Modelo_RegressaoLinearBRC.pkl', 'rb') as arquivo:\n",
    "    modelo_carregado = pickle.load(arquivo)"
   ]
  },
  {
   "cell_type": "code",
   "execution_count": 158,
   "id": "a39c0044",
   "metadata": {},
   "outputs": [
    {
     "data": {
      "text/plain": [
       "'5.564934583749978 + 0.9174417727028592 * X1'"
      ]
     },
     "execution_count": 158,
     "metadata": {},
     "output_type": "execute_result"
    }
   ],
   "source": [
    "modelo_carregado.equacao()"
   ]
  },
  {
   "cell_type": "code",
   "execution_count": 168,
   "id": "998615bf",
   "metadata": {},
   "outputs": [
    {
     "data": {
      "text/plain": [
       "10.15"
      ]
     },
     "execution_count": 168,
     "metadata": {},
     "output_type": "execute_result"
    }
   ],
   "source": [
    "X = [5]\n",
    "\n",
    "y = modelo_carregado.predizer(X)\n",
    "float(np.round(y, 2))"
   ]
  },
  {
   "cell_type": "code",
   "execution_count": 1,
   "id": "687d33b9",
   "metadata": {},
   "outputs": [
    {
     "name": "stdout",
     "output_type": "stream",
     "text": [
      "Requirement already satisfied: streamlit in c:\\users\\nayar\\anaconda3\\lib\\site-packages (1.1.0)\n",
      "Requirement already satisfied: pillow>=6.2.0 in c:\\users\\nayar\\anaconda3\\lib\\site-packages (from streamlit) (8.4.0)\n",
      "Requirement already satisfied: pandas>=0.21.0 in c:\\users\\nayar\\anaconda3\\lib\\site-packages (from streamlit) (2.2.3)\n",
      "Requirement already satisfied: validators in c:\\users\\nayar\\anaconda3\\lib\\site-packages (from streamlit) (0.20.0)\n",
      "Requirement already satisfied: blinker in c:\\users\\nayar\\anaconda3\\lib\\site-packages (from streamlit) (1.6.2)\n",
      "Requirement already satisfied: base58 in c:\\users\\nayar\\anaconda3\\lib\\site-packages (from streamlit) (2.1.1)\n",
      "Requirement already satisfied: tornado>=5.0 in c:\\users\\nayar\\anaconda3\\lib\\site-packages (from streamlit) (6.1)\n",
      "Requirement already satisfied: packaging in c:\\users\\nayar\\anaconda3\\lib\\site-packages (from streamlit) (23.1)\n",
      "Requirement already satisfied: attrs in c:\\users\\nayar\\anaconda3\\lib\\site-packages (from streamlit) (21.2.0)\n",
      "Requirement already satisfied: click<8.0,>=7.0 in c:\\users\\nayar\\anaconda3\\lib\\site-packages (from streamlit) (7.1.2)\n",
      "Requirement already satisfied: altair>=3.2.0 in c:\\users\\nayar\\anaconda3\\lib\\site-packages (from streamlit) (4.2.2)\n",
      "Requirement already satisfied: requests in c:\\users\\nayar\\anaconda3\\lib\\site-packages (from streamlit) (2.28.2)\n",
      "Requirement already satisfied: toml in c:\\users\\nayar\\anaconda3\\lib\\site-packages (from streamlit) (0.10.2)\n",
      "Requirement already satisfied: cachetools>=4.0 in c:\\users\\nayar\\anaconda3\\lib\\site-packages (from streamlit) (5.3.0)\n",
      "Requirement already satisfied: numpy in c:\\users\\nayar\\anaconda3\\lib\\site-packages (from streamlit) (1.26.4)\n",
      "Requirement already satisfied: pydeck>=0.1.dev5 in c:\\users\\nayar\\anaconda3\\lib\\site-packages (from streamlit) (0.8.1b0)\n",
      "Requirement already satisfied: tzlocal in c:\\users\\nayar\\anaconda3\\lib\\site-packages (from streamlit) (4.3)\n",
      "Requirement already satisfied: pyarrow in c:\\users\\nayar\\anaconda3\\lib\\site-packages (from streamlit) (12.0.0)\n",
      "Requirement already satisfied: astor in c:\\users\\nayar\\anaconda3\\lib\\site-packages (from streamlit) (0.8.1)\n",
      "Requirement already satisfied: protobuf!=3.11,>=3.6.0 in c:\\users\\nayar\\anaconda3\\lib\\site-packages (from streamlit) (3.20.3)\n",
      "Requirement already satisfied: python-dateutil in c:\\users\\nayar\\anaconda3\\lib\\site-packages (from streamlit) (2.8.2)\n",
      "Requirement already satisfied: gitpython!=3.1.19 in c:\\users\\nayar\\anaconda3\\lib\\site-packages (from streamlit) (3.1.31)\n",
      "Requirement already satisfied: watchdog in c:\\users\\nayar\\anaconda3\\lib\\site-packages (from streamlit) (2.1.3)\n",
      "Requirement already satisfied: jsonschema>=3.0 in c:\\users\\nayar\\anaconda3\\lib\\site-packages (from altair>=3.2.0->streamlit) (3.2.0)\n",
      "Requirement already satisfied: entrypoints in c:\\users\\nayar\\anaconda3\\lib\\site-packages (from altair>=3.2.0->streamlit) (0.3)\n",
      "Requirement already satisfied: jinja2 in c:\\users\\nayar\\anaconda3\\lib\\site-packages (from altair>=3.2.0->streamlit) (2.11.3)\n",
      "Requirement already satisfied: toolz in c:\\users\\nayar\\anaconda3\\lib\\site-packages (from altair>=3.2.0->streamlit) (0.11.1)\n",
      "Requirement already satisfied: gitdb<5,>=4.0.1 in c:\\users\\nayar\\anaconda3\\lib\\site-packages (from gitpython!=3.1.19->streamlit) (4.0.10)\n",
      "Requirement already satisfied: pytz>=2020.1 in c:\\users\\nayar\\anaconda3\\lib\\site-packages (from pandas>=0.21.0->streamlit) (2021.3)\n",
      "Requirement already satisfied: tzdata>=2022.7 in c:\\users\\nayar\\anaconda3\\lib\\site-packages (from pandas>=0.21.0->streamlit) (2023.3)\n",
      "Requirement already satisfied: six>=1.5 in c:\\users\\nayar\\anaconda3\\lib\\site-packages (from python-dateutil->streamlit) (1.16.0)\n",
      "Requirement already satisfied: idna<4,>=2.5 in c:\\users\\nayar\\anaconda3\\lib\\site-packages (from requests->streamlit) (3.2)\n",
      "Requirement already satisfied: urllib3<1.27,>=1.21.1 in c:\\users\\nayar\\anaconda3\\lib\\site-packages (from requests->streamlit) (1.26.7)\n",
      "Requirement already satisfied: certifi>=2017.4.17 in c:\\users\\nayar\\anaconda3\\lib\\site-packages (from requests->streamlit) (2021.10.8)\n",
      "Requirement already satisfied: charset-normalizer<4,>=2 in c:\\users\\nayar\\anaconda3\\lib\\site-packages (from requests->streamlit) (2.0.4)\n",
      "Requirement already satisfied: pytz-deprecation-shim in c:\\users\\nayar\\anaconda3\\lib\\site-packages (from tzlocal->streamlit) (0.1.0.post0)\n",
      "Requirement already satisfied: decorator>=3.4.0 in c:\\users\\nayar\\anaconda3\\lib\\site-packages (from validators->streamlit) (4.4.2)\n",
      "Requirement already satisfied: smmap<6,>=3.0.1 in c:\\users\\nayar\\anaconda3\\lib\\site-packages (from gitdb<5,>=4.0.1->gitpython!=3.1.19->streamlit) (5.0.0)\n",
      "Requirement already satisfied: MarkupSafe>=0.23 in c:\\users\\nayar\\anaconda3\\lib\\site-packages (from jinja2->altair>=3.2.0->streamlit) (1.1.1)\n",
      "Requirement already satisfied: setuptools in c:\\users\\nayar\\anaconda3\\lib\\site-packages (from jsonschema>=3.0->altair>=3.2.0->streamlit) (75.1.0)\n",
      "Requirement already satisfied: pyrsistent>=0.14.0 in c:\\users\\nayar\\anaconda3\\lib\\site-packages (from jsonschema>=3.0->altair>=3.2.0->streamlit) (0.18.0)\n",
      "Note: you may need to restart the kernel to use updated packages.\n"
     ]
    },
    {
     "name": "stderr",
     "output_type": "stream",
     "text": [
      "WARNING: Ignoring invalid distribution -atplotlib (c:\\users\\nayar\\anaconda3\\lib\\site-packages)\n",
      "WARNING: Ignoring invalid distribution -atplotlib (c:\\users\\nayar\\anaconda3\\lib\\site-packages)\n",
      "WARNING: Ignoring invalid distribution -atplotlib (c:\\users\\nayar\\anaconda3\\lib\\site-packages)\n",
      "WARNING: Ignoring invalid distribution -atplotlib (c:\\users\\nayar\\anaconda3\\lib\\site-packages)\n",
      "WARNING: Ignoring invalid distribution -atplotlib (c:\\users\\nayar\\anaconda3\\lib\\site-packages)\n",
      "WARNING: Ignoring invalid distribution -atplotlib (c:\\users\\nayar\\anaconda3\\lib\\site-packages)\n",
      "WARNING: You are using pip version 21.3.1; however, version 24.2 is available.\n",
      "You should consider upgrading via the 'C:\\Users\\nayar\\anaconda3\\python.exe -m pip install --upgrade pip' command.\n"
     ]
    }
   ],
   "source": [
    "pip install streamlit"
   ]
  },
  {
   "cell_type": "code",
   "execution_count": null,
   "id": "7bb23037",
   "metadata": {},
   "outputs": [],
   "source": []
  }
 ],
 "metadata": {
  "kernelspec": {
   "display_name": "Python 3 (ipykernel)",
   "language": "python",
   "name": "python3"
  },
  "language_info": {
   "codemirror_mode": {
    "name": "ipython",
    "version": 3
   },
   "file_extension": ".py",
   "mimetype": "text/x-python",
   "name": "python",
   "nbconvert_exporter": "python",
   "pygments_lexer": "ipython3",
   "version": "3.9.7"
  }
 },
 "nbformat": 4,
 "nbformat_minor": 5
}
